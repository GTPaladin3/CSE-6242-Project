{
 "cells": [
  {
   "cell_type": "code",
   "execution_count": null,
   "id": "bd68b17a",
   "metadata": {},
   "outputs": [],
   "source": [
    "import numpy as np\n",
    "import pandas as pd\n",
    "import matplotlib.pyplot as plt\n",
    "from sklearn.decomposition import PCA\n",
    "from sklearn.cluster import KMeans"
   ]
  },
  {
   "cell_type": "code",
   "execution_count": null,
   "id": "c8d32c3d",
   "metadata": {},
   "outputs": [],
   "source": [
    "# Reducing the num of columns of the dataset using PCA (13 -> 2)\n",
    "def pca(df):\n",
    "    # Extract and store track_uri values\n",
    "    track_uris = df['track_uri'].values\n",
    "    \n",
    "    # Drop the track_uri column from the dataframe\n",
    "    df_numeric = df.drop('track_uri', axis=1)\n",
    "\n",
    "    # Apply PCA\n",
    "    pca_init = PCA(n_components=2)\n",
    "    pca_result = pca_init.fit_transform(df_numeric)\n",
    "    \n",
    "    # Combine PCA results with original track_uri values\n",
    "    result_df = pd.DataFrame(pca_result, columns=['PC1', 'PC2'])\n",
    "    result_df['track_uri'] = track_uris\n",
    "    \n",
    "    print(result_df)\n",
    "    return result_df, pca_init"
   ]
  },
  {
   "cell_type": "code",
   "execution_count": null,
   "id": "4a3156cc",
   "metadata": {},
   "outputs": [],
   "source": [
    "# Using elbow method to see how many clusters works best\n",
    "def kmeans_cluster_tuning(data):\n",
    "    if 'track_uri' in data.columns:\n",
    "        data = data.drop('track_uri', axis=1)\n",
    "        \n",
    "    #Taking random sample as dataset is too large    \n",
    "    random_sample = data.sample(frac=0.03, replace=False, random_state=1) \n",
    "\n",
    "    #elbow method for identifying optimal cluster\n",
    "    possible_clusters = [10,20,30,40,50,60,70,80,90,100] \n",
    "    inertia = []\n",
    "    for num_clusters in possible_clusters:\n",
    "        kmeans = KMeans(n_clusters=num_clusters, random_state=42)\n",
    "        kmeans.fit(random_sample)\n",
    "        inertia.append(kmeans.inertia_)\n",
    "    print(inertia)\n",
    "    differences = [inertia[i + 1] - inertia[i] for i in range(len(inertia) - 1)]\n",
    "    print(differences)\n",
    "    print(np.median(differences))\n",
    "    min_drop_index = differences.index(np.median(differences))\n",
    "    #plot elbow score by cluster\n",
    "    plt.plot(possible_clusters, inertia, marker='o')\n",
    "    plt.xlabel('Number of Clusters')\n",
    "    plt.ylabel('Inertia (Within-Cluster Sum of Squares)')\n",
    "    plt.title('Elbow Method for Optimal Number of Clusters')\n",
    "    plt.show()    \n",
    "    return possible_clusters[min_drop_index]"
   ]
  },
  {
   "cell_type": "code",
   "execution_count": null,
   "id": "7c6a7718",
   "metadata": {},
   "outputs": [],
   "source": [
    "# visualizations \n",
    "def visualizing_results(data, kmeans):\n",
    "    # Plot the predicted clusters\n",
    "    plt.scatter(data[:, 0], data[:, 1], c=kmeans.labels_, cmap='viridis', marker='o', edgecolor='k', alpha=0.5, label='Predicted Clusters')\n",
    "    plt.title('Song Attribute Clusters')\n",
    "    plt.xlabel('PCA_1')\n",
    "    plt.ylabel('PCA_2')\n",
    "    plt.show()"
   ]
  },
  {
   "cell_type": "code",
   "execution_count": null,
   "id": "5a7f3914",
   "metadata": {
    "scrolled": true
   },
   "outputs": [],
   "source": [
    "def main():\n",
    "    \n",
    "    print(\"\\n\\n1. Reading Songs DataSet\\n\")\n",
    "    df_raw = pd.read_csv('spotify_song_output.csv')\n",
    "    row, col = df_raw.shape\n",
    "    print(f'There are {row} rows and {col} columns')\n",
    "\n",
    "    print(\"\\n\\n2. Reducing via PCA\\n\")\n",
    "    pca_result, pca_2 = pca(df_raw)\n",
    "    pca_result = pca_result.to_numpy()\n",
    "\n",
    "    print(\"\\n\\n3. HyperTuning the Parameter for KMeans\\n\")\n",
    "    optimum_num_clusters = kmeans_cluster_tuning(df_raw)\n",
    "    print(\"optimum num of clusters =\", optimum_num_clusters)\n",
    "\n",
    "    print(\"\\n\\n5. K-means clustering\")\n",
    "    track_uris = df_raw['track_uri'].copy()\n",
    "    song_raw_copy = df_raw.drop('track_uri', axis=1)\n",
    "\n",
    "    kmeans = KMeans(n_clusters=optimum_num_clusters, random_state=42)\n",
    "    kmeans.fit(song_raw_copy)\n",
    "\n",
    "    cluster_df = pd.DataFrame({'track_uri': track_uris, 'cluster_label': kmeans.labels_})\n",
    "\n",
    "    print(\"\\n\\n5. Visualizing the data\")\n",
    "    visualizing_results(pca_result, kmeans)\n",
    "    \n",
    "    print('\\n cluster_df')\n",
    "    print(cluster_df)\n",
    "    return cluster_df"
   ]
  },
  {
   "cell_type": "code",
   "execution_count": null,
   "id": "f5e7bfe7",
   "metadata": {},
   "outputs": [],
   "source": [
    "main()"
   ]
  }
 ],
 "metadata": {
  "kernelspec": {
   "display_name": "Python 3 (ipykernel)",
   "language": "python",
   "name": "python3"
  },
  "language_info": {
   "codemirror_mode": {
    "name": "ipython",
    "version": 3
   },
   "file_extension": ".py",
   "mimetype": "text/x-python",
   "name": "python",
   "nbconvert_exporter": "python",
   "pygments_lexer": "ipython3",
   "version": "3.9.7"
  }
 },
 "nbformat": 4,
 "nbformat_minor": 5
}
